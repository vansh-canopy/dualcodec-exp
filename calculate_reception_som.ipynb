{
 "cells": [
  {
   "cell_type": "code",
   "execution_count": 1,
   "id": "0564625b",
   "metadata": {},
   "outputs": [
    {
     "name": "stderr",
     "output_type": "stream",
     "text": [
      "/home/vansh/dualcodec-exp/.venv/lib/python3.10/site-packages/tqdm/auto.py:21: TqdmWarning: IProgress not found. Please update jupyter and ipywidgets. See https://ipywidgets.readthedocs.io/en/stable/user_install.html\n",
      "  from .autonotebook import tqdm as notebook_tqdm\n"
     ]
    }
   ],
   "source": [
    "from typing import Any, Dict, List\n",
    "\n",
    "import torch.nn as nn\n",
    "from dualcodec.model_codec.dac_model import DAC                    \n",
    "from math import ceil, floor"
   ]
  },
  {
   "cell_type": "code",
   "execution_count": 2,
   "id": "7e3c9070",
   "metadata": {},
   "outputs": [],
   "source": [
    "Layer = Dict[str, Any]"
   ]
  },
  {
   "cell_type": "code",
   "execution_count": null,
   "id": "a367c43e",
   "metadata": {},
   "outputs": [],
   "source": [
    "def _add_layer(lst: List[Layer], name: str, mod: nn.Module, ltype: str) -> None:\n",
    "    lst.append(\n",
    "        dict(\n",
    "            name=name,\n",
    "            type=ltype,                      # 'conv' | 'tconv'\n",
    "            k=mod.kernel_size[0],\n",
    "            s=mod.stride[0] if hasattr(mod, stride) else 1,\n",
    "            d=mod.dilation[0],\n",
    "            p=mod.padding[0],\n",
    "            in_ch=mod.in_channels,\n",
    "            out_ch=mod.out_channels,\n",
    "        )\n",
    "    )"
   ]
  },
  {
   "cell_type": "code",
   "execution_count": 4,
   "id": "3388f761",
   "metadata": {},
   "outputs": [],
   "source": [
    "def collect_encoder_layers(enc: nn.Module, strides: List[int]) -> List[Layer]:\n",
    "    layers: List[Layer] = []\n",
    "\n",
    "    # 0. input conv\n",
    "    _add_layer(layers, \"EncInputConv\", enc.block[0], \"conv\")\n",
    "\n",
    "    idx = 1\n",
    "    for blk_no, stride in enumerate(strides, 1):\n",
    "        enc_blk = enc.block[idx]         # EncoderBlock N\n",
    "        idx += 1\n",
    "\n",
    "        unit_no = 0\n",
    "        for sub in enc_blk.block:\n",
    "            # ResidualUnit\n",
    "            if hasattr(sub, \"block\"):    # picks up ResidualUnit\n",
    "                unit_no += 1\n",
    "                _add_layer(\n",
    "                    layers,\n",
    "                    f\"EncBlock{blk_no}-Unit{unit_no}-Conv1\",\n",
    "                    sub.block[1],\n",
    "                    \"conv\",\n",
    "                )\n",
    "                _add_layer(\n",
    "                    layers,\n",
    "                    f\"EncBlock{blk_no}-Unit{unit_no}-Conv2\",\n",
    "                    sub.block[3],\n",
    "                    \"conv\",\n",
    "                )\n",
    "            # down-sampling conv is plain Conv1d\n",
    "            elif isinstance(sub, nn.Conv1d):\n",
    "                _add_layer(\n",
    "                    layers,\n",
    "                    f\"EncBlock{blk_no}-DownsampleConv\",\n",
    "                    sub,\n",
    "                    \"conv\",\n",
    "                )\n",
    "\n",
    "    _add_layer(layers, \"EncFinalConv\", enc.block[-1], \"conv\")\n",
    "    return layers"
   ]
  },
  {
   "cell_type": "code",
   "execution_count": 5,
   "id": "3ae11b8e",
   "metadata": {},
   "outputs": [],
   "source": [
    "def collect_decoder_layers(dec: nn.Module, rates: List[int]) -> List[Layer]:\n",
    "    layers: List[Layer] = []\n",
    "\n",
    "    _add_layer(layers, \"DecInputConv\", dec.model[0], \"conv\")\n",
    "\n",
    "    cursor = 1\n",
    "    for blk_no, _ in enumerate(rates, 1):\n",
    "        dec_blk = dec.model[cursor]      # DecoderBlock N\n",
    "        cursor += 1\n",
    "\n",
    "        _add_layer(\n",
    "            layers,\n",
    "            f\"DecBlock{blk_no}-UpsampleConv\",\n",
    "            dec_blk.block[1],\n",
    "            \"tconv\",\n",
    "        )\n",
    "\n",
    "        unit_no = 0\n",
    "        for sub in dec_blk.block:\n",
    "            if hasattr(sub, \"block\"):    # ResidualUnit\n",
    "                unit_no += 1\n",
    "                _add_layer(\n",
    "                    layers,\n",
    "                    f\"DecBlock{blk_no}-Unit{unit_no}-Conv1\",\n",
    "                    sub.block[1],\n",
    "                    \"conv\",\n",
    "                )\n",
    "                _add_layer(\n",
    "                    layers,\n",
    "                    f\"DecBlock{blk_no}-Unit{unit_no}-Conv2\",\n",
    "                    sub.block[3],\n",
    "                    \"conv\",\n",
    "                )\n",
    "\n",
    "    _add_layer(layers, \"DecFinalConv\", dec.model[-2], \"conv\")\n",
    "    return layers"
   ]
  },
  {
   "cell_type": "code",
   "execution_count": 12,
   "id": "3e29b260",
   "metadata": {},
   "outputs": [],
   "source": [
    "def annotate_for_index(layers: List[Layer], t_out: int) -> None:\n",
    "    \"\"\"\n",
    "    Annotate each layer with receptive field info, working backwards from t_out.\n",
    "    Jumps are computed as the product of strides up to that layer.\n",
    "    L and R are computed recursively from the output index.\n",
    "    \"\"\"\n",
    "    print(f\"t_out: {t_out}\")\n",
    "    n = len(layers)\n",
    "    # Compute jumps for each layer (J_l = product of strides up to l)\n",
    "    jumps = []\n",
    "    J = 1.0\n",
    "    for layer in layers:\n",
    "        jumps.append(J)\n",
    "        if layer[\"type\"] == \"conv\":\n",
    "            J *= layer[\"s\"]\n",
    "        else:\n",
    "            J /= layer[\"s\"]\n",
    "\n",
    "    # Work backwards to compute L and R for each layer\n",
    "    L = R = t_out\n",
    "    prev_len = 1\n",
    "    for i in reversed(range(n)):\n",
    "        layer = layers[i]\n",
    "        k, s, d, p = layer[\"k\"], layer[\"s\"], layer[\"d\"], layer[\"p\"]\n",
    "        J = jumps[i]\n",
    "        if layer[\"type\"] == \"conv\":\n",
    "            L_new = L - p * J\n",
    "            R_new = R + ((k - 1) * d - p) * J\n",
    "        else:  # transposed conv\n",
    "            # Use the same formula as in the original code for tconv\n",
    "            L_new = ceil(L/J + (p - (k - 1) * d) / s) * J\n",
    "            R_new = floor(R/J + p / s) * J\n",
    "        rf_len = R_new - L_new + 1\n",
    "        layer.update(\n",
    "            dict(jump=J, L=L_new, R=R_new, rf_len=rf_len, delta_len=rf_len - prev_len)\n",
    "        )\n",
    "        prev_len = rf_len\n",
    "        L, R = L_new, R_new\n",
    "\n",
    "\n",
    "def print_table(layers: List[Layer], title: str, t_val: int) -> None:\n",
    "    hdr = (\"Layer\", \"In\", \"Out\", \"k\", \"s\", \"d\", \"pad\",\n",
    "           \"jump\", \"L\", \"R\", \"len\", \"Δlen\")\n",
    "    print(f\"\\n{title}  (t = {t_val})\\n\" + \"=\" * 156)\n",
    "    print(f\"{hdr[0]:<50} {hdr[1]:>4} {hdr[2]:>4} \"\n",
    "          f\"{hdr[3]:>3} {hdr[4]:>3} {hdr[5]:>3} {hdr[6]:>4} \"\n",
    "          f\"{hdr[7]:>10} {hdr[8]:>9} {hdr[9]:>9} {hdr[10]:>6} {hdr[11]:>6}\")\n",
    "    print(\"-\" * 156)\n",
    "    for l in layers:\n",
    "        print(f\"{l['name']:<50} {l['in_ch']:>4} {l['out_ch']:>4} \"\n",
    "              f\"{l['k']:>3} {l['s']:>3} {l['d']:>3} {l['p']:>4} \"\n",
    "              f\"{l['jump']:>10.6f} {l['L']:>9} {l['R']:>9} \"\n",
    "              f\"{l['rf_len']:>6} {l['delta_len']:>6}\")"
   ]
  },
  {
   "cell_type": "code",
   "execution_count": 13,
   "id": "c1725dc8",
   "metadata": {},
   "outputs": [
    {
     "name": "stderr",
     "output_type": "stream",
     "text": [
      "/home/vansh/dualcodec-exp/.venv/lib/python3.10/site-packages/torch/nn/utils/weight_norm.py:143: FutureWarning: `torch.nn.utils.weight_norm` is deprecated in favor of `torch.nn.utils.parametrizations.weight_norm`.\n",
      "  WeightNorm.apply(module, name, dim)\n"
     ]
    },
    {
     "ename": "AttributeError",
     "evalue": "'CausalWNConv1d' object has no attribute 'stride'",
     "output_type": "error",
     "traceback": [
      "\u001b[0;31m---------------------------------------------------------------------------\u001b[0m",
      "\u001b[0;31mAttributeError\u001b[0m                            Traceback (most recent call last)",
      "Cell \u001b[0;32mIn[13], line 3\u001b[0m\n\u001b[1;32m      1\u001b[0m dac \u001b[38;5;241m=\u001b[39m DAC(decoder_rates\u001b[38;5;241m=\u001b[39m[\u001b[38;5;241m2\u001b[39m,\u001b[38;5;241m8\u001b[39m,\u001b[38;5;241m6\u001b[39m,\u001b[38;5;241m5\u001b[39m,\u001b[38;5;241m4\u001b[39m])\u001b[38;5;241m.\u001b[39meval()\n\u001b[0;32m----> 3\u001b[0m dec_layers \u001b[38;5;241m=\u001b[39m \u001b[43mcollect_decoder_layers\u001b[49m\u001b[43m(\u001b[49m\u001b[43mdac\u001b[49m\u001b[38;5;241;43m.\u001b[39;49m\u001b[43mdecoder\u001b[49m\u001b[43m,\u001b[49m\u001b[43m \u001b[49m\u001b[43mdac\u001b[49m\u001b[38;5;241;43m.\u001b[39;49m\u001b[43mdecoder_rates\u001b[49m\u001b[43m)\u001b[49m\n\u001b[1;32m      4\u001b[0m annotate_for_index(dec_layers, \u001b[38;5;241m0\u001b[39m)\n\u001b[1;32m      5\u001b[0m print_table(dec_layers, \u001b[38;5;124m\"\u001b[39m\u001b[38;5;124mDECODER\u001b[39m\u001b[38;5;124m\"\u001b[39m, \u001b[38;5;241m0\u001b[39m)\n",
      "Cell \u001b[0;32mIn[5], line 4\u001b[0m, in \u001b[0;36mcollect_decoder_layers\u001b[0;34m(dec, rates)\u001b[0m\n\u001b[1;32m      1\u001b[0m \u001b[38;5;28;01mdef\u001b[39;00m\u001b[38;5;250m \u001b[39m\u001b[38;5;21mcollect_decoder_layers\u001b[39m(dec: nn\u001b[38;5;241m.\u001b[39mModule, rates: List[\u001b[38;5;28mint\u001b[39m]) \u001b[38;5;241m-\u001b[39m\u001b[38;5;241m>\u001b[39m List[Layer]:\n\u001b[1;32m      2\u001b[0m     layers: List[Layer] \u001b[38;5;241m=\u001b[39m []\n\u001b[0;32m----> 4\u001b[0m     \u001b[43m_add_layer\u001b[49m\u001b[43m(\u001b[49m\u001b[43mlayers\u001b[49m\u001b[43m,\u001b[49m\u001b[43m \u001b[49m\u001b[38;5;124;43m\"\u001b[39;49m\u001b[38;5;124;43mDecInputConv\u001b[39;49m\u001b[38;5;124;43m\"\u001b[39;49m\u001b[43m,\u001b[49m\u001b[43m \u001b[49m\u001b[43mdec\u001b[49m\u001b[38;5;241;43m.\u001b[39;49m\u001b[43mmodel\u001b[49m\u001b[43m[\u001b[49m\u001b[38;5;241;43m0\u001b[39;49m\u001b[43m]\u001b[49m\u001b[43m,\u001b[49m\u001b[43m \u001b[49m\u001b[38;5;124;43m\"\u001b[39;49m\u001b[38;5;124;43mconv\u001b[39;49m\u001b[38;5;124;43m\"\u001b[39;49m\u001b[43m)\u001b[49m\n\u001b[1;32m      6\u001b[0m     cursor \u001b[38;5;241m=\u001b[39m \u001b[38;5;241m1\u001b[39m\n\u001b[1;32m      7\u001b[0m     \u001b[38;5;28;01mfor\u001b[39;00m blk_no, _ \u001b[38;5;129;01min\u001b[39;00m \u001b[38;5;28menumerate\u001b[39m(rates, \u001b[38;5;241m1\u001b[39m):\n",
      "Cell \u001b[0;32mIn[11], line 7\u001b[0m, in \u001b[0;36m_add_layer\u001b[0;34m(lst, name, mod, ltype)\u001b[0m\n\u001b[1;32m      1\u001b[0m \u001b[38;5;28;01mdef\u001b[39;00m\u001b[38;5;250m \u001b[39m\u001b[38;5;21m_add_layer\u001b[39m(lst: List[Layer], name: \u001b[38;5;28mstr\u001b[39m, mod: nn\u001b[38;5;241m.\u001b[39mModule, ltype: \u001b[38;5;28mstr\u001b[39m) \u001b[38;5;241m-\u001b[39m\u001b[38;5;241m>\u001b[39m \u001b[38;5;28;01mNone\u001b[39;00m:\n\u001b[1;32m      2\u001b[0m     lst\u001b[38;5;241m.\u001b[39mappend(\n\u001b[1;32m      3\u001b[0m         \u001b[38;5;28mdict\u001b[39m(\n\u001b[1;32m      4\u001b[0m             name\u001b[38;5;241m=\u001b[39mname,\n\u001b[1;32m      5\u001b[0m             \u001b[38;5;28mtype\u001b[39m\u001b[38;5;241m=\u001b[39mltype,                      \u001b[38;5;66;03m# 'conv' | 'tconv'\u001b[39;00m\n\u001b[1;32m      6\u001b[0m             k\u001b[38;5;241m=\u001b[39mmod\u001b[38;5;241m.\u001b[39mkernel_size[\u001b[38;5;241m0\u001b[39m],\n\u001b[0;32m----> 7\u001b[0m             s\u001b[38;5;241m=\u001b[39mmod\u001b[38;5;241m.\u001b[39mstride[\u001b[38;5;241m0\u001b[39m] \u001b[38;5;28;01mif\u001b[39;00m \u001b[43mmod\u001b[49m\u001b[38;5;241;43m.\u001b[39;49m\u001b[43mstride\u001b[49m[\u001b[38;5;241m0\u001b[39m] \u001b[38;5;28;01melse\u001b[39;00m \u001b[38;5;241m1\u001b[39m,\n\u001b[1;32m      8\u001b[0m             d\u001b[38;5;241m=\u001b[39mmod\u001b[38;5;241m.\u001b[39mdilation[\u001b[38;5;241m0\u001b[39m],\n\u001b[1;32m      9\u001b[0m             p\u001b[38;5;241m=\u001b[39mmod\u001b[38;5;241m.\u001b[39mpadding[\u001b[38;5;241m0\u001b[39m],\n\u001b[1;32m     10\u001b[0m             in_ch\u001b[38;5;241m=\u001b[39mmod\u001b[38;5;241m.\u001b[39min_channels,\n\u001b[1;32m     11\u001b[0m             out_ch\u001b[38;5;241m=\u001b[39mmod\u001b[38;5;241m.\u001b[39mout_channels,\n\u001b[1;32m     12\u001b[0m         )\n\u001b[1;32m     13\u001b[0m     )\n",
      "File \u001b[0;32m~/dualcodec-exp/.venv/lib/python3.10/site-packages/torch/nn/modules/module.py:1940\u001b[0m, in \u001b[0;36mModule.__getattr__\u001b[0;34m(self, name)\u001b[0m\n\u001b[1;32m   1938\u001b[0m     \u001b[38;5;28;01mif\u001b[39;00m name \u001b[38;5;129;01min\u001b[39;00m modules:\n\u001b[1;32m   1939\u001b[0m         \u001b[38;5;28;01mreturn\u001b[39;00m modules[name]\n\u001b[0;32m-> 1940\u001b[0m \u001b[38;5;28;01mraise\u001b[39;00m \u001b[38;5;167;01mAttributeError\u001b[39;00m(\n\u001b[1;32m   1941\u001b[0m     \u001b[38;5;124mf\u001b[39m\u001b[38;5;124m\"\u001b[39m\u001b[38;5;124m'\u001b[39m\u001b[38;5;132;01m{\u001b[39;00m\u001b[38;5;28mtype\u001b[39m(\u001b[38;5;28mself\u001b[39m)\u001b[38;5;241m.\u001b[39m\u001b[38;5;18m__name__\u001b[39m\u001b[38;5;132;01m}\u001b[39;00m\u001b[38;5;124m'\u001b[39m\u001b[38;5;124m object has no attribute \u001b[39m\u001b[38;5;124m'\u001b[39m\u001b[38;5;132;01m{\u001b[39;00mname\u001b[38;5;132;01m}\u001b[39;00m\u001b[38;5;124m'\u001b[39m\u001b[38;5;124m\"\u001b[39m\n\u001b[1;32m   1942\u001b[0m )\n",
      "\u001b[0;31mAttributeError\u001b[0m: 'CausalWNConv1d' object has no attribute 'stride'"
     ]
    }
   ],
   "source": [
    "dac = DAC(decoder_rates=[2,8,6,5,4]).eval()\n",
    "\n",
    "dec_layers = collect_decoder_layers(dac.decoder, dac.decoder_rates)\n",
    "annotate_for_index(dec_layers, 0)\n",
    "print_table(dec_layers, \"DECODER\", 0)"
   ]
  },
  {
   "cell_type": "code",
   "execution_count": 9,
   "id": "9ab4f67e",
   "metadata": {},
   "outputs": [
    {
     "ename": "TypeError",
     "evalue": "DAC.__init__() got an unexpected keyword argument 'padding_ratio'",
     "output_type": "error",
     "traceback": [
      "\u001b[0;31m---------------------------------------------------------------------------\u001b[0m",
      "\u001b[0;31mTypeError\u001b[0m                                 Traceback (most recent call last)",
      "Cell \u001b[0;32mIn[9], line 1\u001b[0m\n\u001b[0;32m----> 1\u001b[0m dac \u001b[38;5;241m=\u001b[39m \u001b[43mDAC\u001b[49m\u001b[43m(\u001b[49m\u001b[43mdecoder_rates\u001b[49m\u001b[38;5;241;43m=\u001b[39;49m\u001b[43m[\u001b[49m\u001b[38;5;241;43m2\u001b[39;49m\u001b[43m,\u001b[49m\u001b[38;5;241;43m8\u001b[39;49m\u001b[43m,\u001b[49m\u001b[38;5;241;43m6\u001b[39;49m\u001b[43m,\u001b[49m\u001b[38;5;241;43m5\u001b[39;49m\u001b[43m,\u001b[49m\u001b[38;5;241;43m4\u001b[39;49m\u001b[43m]\u001b[49m\u001b[43m,\u001b[49m\u001b[43m \u001b[49m\u001b[43mpadding_ratio\u001b[49m\u001b[43m \u001b[49m\u001b[38;5;241;43m=\u001b[39;49m\u001b[43m \u001b[49m\u001b[38;5;241;43m0\u001b[39;49m\u001b[43m)\u001b[49m\u001b[38;5;241m.\u001b[39meval()\n\u001b[1;32m      3\u001b[0m dec_layers \u001b[38;5;241m=\u001b[39m collect_decoder_layers(dac\u001b[38;5;241m.\u001b[39mdecoder, dac\u001b[38;5;241m.\u001b[39mdecoder_rates)\n\u001b[1;32m      4\u001b[0m annotate_for_index(dec_layers, \u001b[38;5;241m0\u001b[39m)\n",
      "\u001b[0;31mTypeError\u001b[0m: DAC.__init__() got an unexpected keyword argument 'padding_ratio'"
     ]
    }
   ],
   "source": [
    "dac = DAC(decoder_rates=[2,8,6,5,4], padding_ratio = 0).eval()\n",
    "\n",
    "dec_layers = collect_decoder_layers(dac.decoder, dac.decoder_rates)\n",
    "annotate_for_index(dec_layers, 0)\n",
    "print_table(dec_layers, \"DECODER\", 0)"
   ]
  },
  {
   "cell_type": "code",
   "execution_count": null,
   "id": "bc9628f5",
   "metadata": {},
   "outputs": [],
   "source": []
  }
 ],
 "metadata": {
  "kernelspec": {
   "display_name": ".venv",
   "language": "python",
   "name": "python3"
  },
  "language_info": {
   "codemirror_mode": {
    "name": "ipython",
    "version": 3
   },
   "file_extension": ".py",
   "mimetype": "text/x-python",
   "name": "python",
   "nbconvert_exporter": "python",
   "pygments_lexer": "ipython3",
   "version": "3.10.15"
  }
 },
 "nbformat": 4,
 "nbformat_minor": 5
}
