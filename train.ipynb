{
 "cells": [
  {
   "cell_type": "code",
   "execution_count": 1,
   "metadata": {},
   "outputs": [],
   "source": [
    "from datasets import load_dataset"
   ]
  },
  {
   "cell_type": "code",
   "execution_count": null,
   "metadata": {},
   "outputs": [],
   "source": [
    "from huggingface_hub import snapshot_download\n",
    "from datasets import load_dataset\n",
    "import os\n",
    "\n",
    "# Create custom directory for dataset cache\n",
    "cache_dir = \"/worskpace/emilia_dataset\"\n",
    "os.makedirs(cache_dir, exist_ok=True)\n",
    "\n",
    "# Download the dataset repository using snapshot_download\n",
    "repo_path = snapshot_download(\n",
    "    repo_id=\"amphion/Emilia-Dataset\",\n",
    "    repo_type=\"dataset\",\n",
    "    cache_dir=cache_dir,\n",
    ")"
   ]
  },
  {
   "cell_type": "code",
   "execution_count": null,
   "metadata": {},
   "outputs": [],
   "source": [
    "\n",
    "# Load dataset from the downloaded repository\n",
    "dataset = load_dataset(\n",
    "    repo_path,\n",
    "    data_files={\"train\": \"DE/*.tar\"},  # Only German data (~10% of full dataset)\n",
    "    split=\"train\",\n",
    "    streaming=False\n",
    ")\n",
    "\n",
    "# Alternative: If you want to control exact percentage, you can slice after loading\n",
    "# dataset = dataset.select(range(int(len(dataset) * 0.1)))  # Take only 10%\n",
    "\n",
    "print(f\"Dataset size: {len(dataset)} samples\")\n",
    "print(f\"Dataset cached in: {cache_dir}\")\n",
    "print(f\"Repository downloaded to: {repo_path}\")"
   ]
  }
 ],
 "metadata": {
  "kernelspec": {
   "display_name": "Python 3",
   "language": "python",
   "name": "python3"
  },
  "language_info": {
   "codemirror_mode": {
    "name": "ipython",
    "version": 3
   },
   "file_extension": ".py",
   "mimetype": "text/x-python",
   "name": "python",
   "nbconvert_exporter": "python",
   "pygments_lexer": "ipython3",
   "version": "3.10.12"
  }
 },
 "nbformat": 4,
 "nbformat_minor": 2
}
