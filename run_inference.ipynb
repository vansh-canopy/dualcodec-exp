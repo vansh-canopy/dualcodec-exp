{
 "cells": [
  {
   "cell_type": "code",
   "execution_count": null,
   "metadata": {},
   "outputs": [],
   "source": [
    "import dualcodec\n",
    "import torchaudio\n",
    "from IPython.display import Audio"
   ]
  },
  {
   "cell_type": "code",
   "execution_count": null,
   "metadata": {},
   "outputs": [],
   "source": [
    "model_id = \"12hz_v1\""
   ]
  },
  {
   "cell_type": "code",
   "execution_count": null,
   "metadata": {},
   "outputs": [],
   "source": [
    "path_1 = \"output_checkpoints_3/dualcodec_experiments_causal_decoder/checkpoint/epoch-0000_step-0052000_loss-210.759888-dualcodec_experiments_causal_decoder\""
   ]
  },
  {
   "cell_type": "code",
   "execution_count": null,
   "metadata": {},
   "outputs": [],
   "source": [
    "# use strict=False to load the model when making changes to the model layers (which changes the names in the state dictionairy)\n",
    "# This is only to load random weights and confirm that the forward pass works properly\n",
    "\n",
    "dualcodec_model = dualcodec.get_model(model_id, pretrained_model_path=path_1, is_checkpoint=True, strict=False) "
   ]
  },
  {
   "cell_type": "code",
   "execution_count": null,
   "metadata": {},
   "outputs": [],
   "source": [
    "# If you switch from InferenceWhisper to Inference (normal one with w2v) you have to change the model semantic_repr_dim to 1024 in \n",
    "# conf/model/dualcodec_12hz_16384_4096_8vq.yaml\n",
    "\n",
    "dualcodec_inference = dualcodec.InferenceWhisper(dualcodec_model=dualcodec_model)"
   ]
  },
  {
   "cell_type": "code",
   "execution_count": null,
   "metadata": {},
   "outputs": [],
   "source": [
    "dualcodec_inference.semantic_cfg.semantic_model.encoder.causal_mask[0][0][1][:10]"
   ]
  },
  {
   "cell_type": "code",
   "execution_count": null,
   "metadata": {},
   "outputs": [],
   "source": [
    "audio, sr = torchaudio.load(\"audio_samples/tara.wav\")\n",
    "audio = torchaudio.functional.resample(audio, sr, 24000)\n",
    "audio = audio.reshape(1,1,-1)\n",
    "audio = audio.cpu()\n",
    "\n",
    "Audio(audio.squeeze(0), rate=24000)"
   ]
  },
  {
   "cell_type": "code",
   "execution_count": null,
   "metadata": {},
   "outputs": [],
   "source": [
    "semantic_codes, acoustic_codes = dualcodec_inference.encode(audio, n_quantizers=8)"
   ]
  },
  {
   "cell_type": "code",
   "execution_count": null,
   "metadata": {},
   "outputs": [],
   "source": [
    "print(semantic_codes.shape)\n",
    "print(acoustic_codes.shape)"
   ]
  },
  {
   "cell_type": "code",
   "execution_count": null,
   "metadata": {},
   "outputs": [],
   "source": [
    "out_audio = dualcodec_inference.decode(semantic_codes, acoustic_codes)\n",
    "Audio(out_audio.cpu().squeeze(0), rate=24000)"
   ]
  },
  {
   "cell_type": "code",
   "execution_count": null,
   "metadata": {},
   "outputs": [],
   "source": []
  }
 ],
 "metadata": {
  "kernelspec": {
   "display_name": ".venv",
   "language": "python",
   "name": "python3"
  },
  "language_info": {
   "codemirror_mode": {
    "name": "ipython",
    "version": 3
   },
   "file_extension": ".py",
   "mimetype": "text/x-python",
   "name": "python",
   "nbconvert_exporter": "python",
   "pygments_lexer": "ipython3",
   "version": "3.10.15"
  }
 },
 "nbformat": 4,
 "nbformat_minor": 2
}
