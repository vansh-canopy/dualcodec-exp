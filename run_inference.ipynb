{
 "cells": [
  {
   "cell_type": "code",
   "execution_count": null,
   "metadata": {},
   "outputs": [],
   "source": [
    "import dualcodec\n",
    "import torchaudio\n",
    "from IPython.display import Audio"
   ]
  },
  {
   "cell_type": "code",
   "execution_count": null,
   "metadata": {},
   "outputs": [],
   "source": [
    "base_id = \"12hz_v2\"\n",
    "my_model_path = \"/home/vansh/dualcodec-vansh/averaged_models/\"\n",
    "model_name = \"averaged_model_step_0260000_decay_0.85.safetensors\"\n",
    "\n",
    "my_model = dualcodec.get_model(base_id, my_model_path, name=model_name, strict=True)\n",
    "my_inference = dualcodec.InferenceWhisper(dualcodec_model=my_model)"
   ]
  },
  {
   "cell_type": "code",
   "execution_count": null,
   "metadata": {},
   "outputs": [],
   "source": [
    "my_inference.semantic_cfg.semantic_model.encoder.causal_mask[0][0][1][:10]"
   ]
  },
  {
   "cell_type": "code",
   "execution_count": null,
   "metadata": {},
   "outputs": [],
   "source": [
    "audio, sr = torchaudio.load(\"audio_samples/2400.wav\")\n",
    "audio = torchaudio.functional.resample(audio, sr, 24000)\n",
    "audio = audio.reshape(1,1,-1)\n",
    "audio = audio.cpu()\n",
    "print(\"*\")\n",
    "print(f\"audio.shape: {audio.shape}\")\n",
    "Audio(audio.squeeze(0), rate=24000)"
   ]
  },
  {
   "cell_type": "code",
   "execution_count": null,
   "metadata": {},
   "outputs": [],
   "source": [
    "semantic_codes, acoustic_codes = my_inference.encode(audio, n_quantizers=8)"
   ]
  },
  {
   "cell_type": "code",
   "execution_count": null,
   "metadata": {},
   "outputs": [],
   "source": [
    "print(semantic_codes.shape)\n",
    "print(acoustic_codes.shape)"
   ]
  },
  {
   "cell_type": "code",
   "execution_count": null,
   "metadata": {},
   "outputs": [],
   "source": [
    "out_audio = my_inference.decode(semantic_codes, acoustic_codes)\n",
    "print(\"*\")\n",
    "Audio(out_audio.cpu().squeeze(0), rate=24000)"
   ]
  },
  {
   "cell_type": "code",
   "execution_count": null,
   "metadata": {},
   "outputs": [],
   "source": []
  }
 ],
 "metadata": {
  "kernelspec": {
   "display_name": ".venv",
   "language": "python",
   "name": "python3"
  },
  "language_info": {
   "codemirror_mode": {
    "name": "ipython",
    "version": 3
   },
   "file_extension": ".py",
   "mimetype": "text/x-python",
   "name": "python",
   "nbconvert_exporter": "python",
   "pygments_lexer": "ipython3",
   "version": "3.10.15"
  }
 },
 "nbformat": 4,
 "nbformat_minor": 2
}
