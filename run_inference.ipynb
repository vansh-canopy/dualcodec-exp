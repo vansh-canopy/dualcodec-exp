{
 "cells": [
  {
   "cell_type": "code",
   "execution_count": null,
   "metadata": {},
   "outputs": [],
   "source": [
    "import dualcodec\n",
    "import torchaudio\n",
    "from IPython.display import Audio"
   ]
  },
  {
   "cell_type": "code",
   "execution_count": null,
   "metadata": {},
   "outputs": [],
   "source": [
    "model_id = \"12hz_v1\""
   ]
  },
  {
   "cell_type": "code",
   "execution_count": null,
   "metadata": {},
   "outputs": [],
   "source": [
    "path_1 = \"output_checkpoints_2/dualcodec_experiments_fully_causal/checkpoint/epoch-0000_step-0094400_loss-135.731720-dualcodec_experiments_fully_causal\""
   ]
  },
  {
   "cell_type": "code",
   "execution_count": null,
   "metadata": {},
   "outputs": [],
   "source": [
    "audio, sr = torchaudio.load(\"audio_samples/tara.wav\")\n",
    "audio = torchaudio.functional.resample(audio, sr, 24000)\n",
    "audio = audio.reshape(1,1,-1)\n",
    "audio = audio.cpu()\n",
    "\n",
    "Audio(audio.squeeze(0), rate=24000)"
   ]
  },
  {
   "cell_type": "code",
   "execution_count": null,
   "metadata": {},
   "outputs": [],
   "source": [
    "path_2 = \"output_checkpoints_2/dualcodec_experiments_fully_causal/checkpoint/epoch-0000_step-0083400_loss-169.211517-dualcodec_experiments_fully_causal\"\n",
    "\n",
    "dualcodec_model_2 = dualcodec.get_model(model_id, path_2)"
   ]
  },
  {
   "cell_type": "code",
   "execution_count": null,
   "metadata": {},
   "outputs": [],
   "source": [
    "dualcodec_inference_1 = dualcodec.Inference(dualcodec_model=dualcodec_model_2, device=\"cpu\")"
   ]
  },
  {
   "cell_type": "markdown",
   "metadata": {},
   "source": []
  },
  {
   "cell_type": "code",
   "execution_count": null,
   "metadata": {},
   "outputs": [],
   "source": [
    "audio, sr = torchaudio.load(\"audio_samples/tara.wav\")\n",
    "audio = torchaudio.functional.resample(audio, sr, 24000)\n",
    "audio = audio.reshape(1,1,-1)\n",
    "audio = audio.cpu()\n",
    "\n",
    "Audio(audio.squeeze(0), rate=24000)"
   ]
  },
  {
   "cell_type": "code",
   "execution_count": null,
   "metadata": {},
   "outputs": [],
   "source": [
    "semantic_codes, acoustic_codes = dualcodec_inference_1.encode(audio, n_quantizers=8)\n",
    "out_audio = dualcodec_inference_1.decode(semantic_codes, acoustic_codes)\n",
    "Audio(out_audio.cpu().squeeze(0), rate=24000)"
   ]
  },
  {
   "cell_type": "code",
   "execution_count": null,
   "metadata": {},
   "outputs": [],
   "source": []
  }
 ],
 "metadata": {
  "kernelspec": {
   "display_name": ".venv",
   "language": "python",
   "name": "python3"
  },
  "language_info": {
   "codemirror_mode": {
    "name": "ipython",
    "version": 3
   },
   "file_extension": ".py",
   "mimetype": "text/x-python",
   "name": "python",
   "nbconvert_exporter": "python",
   "pygments_lexer": "ipython3",
   "version": "3.10.15"
  }
 },
 "nbformat": 4,
 "nbformat_minor": 2
}
