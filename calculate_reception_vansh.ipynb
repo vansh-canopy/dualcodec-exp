{
 "cells": [
  {
   "cell_type": "code",
   "execution_count": 40,
   "id": "1c81c6a9",
   "metadata": {},
   "outputs": [],
   "source": [
    "from math import ceil, floor\n",
    "\n",
    "def build_decoder_layers(strides):\n",
    "    layers = []\n",
    "    \n",
    "    layers.append(\n",
    "        {\"name\": \"DecInputConv\", \"type\": \"conv\", \"k\": 7, \"s\": 1, \"d\": 1, \"p\": 3}\n",
    "        )\n",
    "    \n",
    "    for i, stride in enumerate(strides, 1):\n",
    "        upsample_k = 2 * stride\n",
    "        upsample_p = ceil(stride * 2)\n",
    "        \n",
    "        layers.append(\n",
    "            {\n",
    "            \"name\": f\"DecBlock{i}-UpsampleConv\", \n",
    "            \"type\": \"Tconv\", \n",
    "            \"k\": upsample_k, \n",
    "            \"s\": stride, \n",
    "            \"d\": 1, \n",
    "            \"p\": upsample_p\n",
    "            }\n",
    "        )\n",
    "        \n",
    "        for unit in range(1, 4):\n",
    "            dilation = 3 ** (unit - 1)  # 1, 3, 9\n",
    "            \n",
    "            padding = dilation * (7 - 1) // 2\n",
    "            \n",
    "            # Conv1 in ResidualUnit\n",
    "            layers.append({\n",
    "                \"name\": f\"DecBlock{i}-Unit{unit}-Conv1\",\n",
    "                \"type\": \"conv\", \n",
    "                \"k\": 7, \n",
    "                \"s\": 1, \n",
    "                \"d\": dilation, \n",
    "                \"p\": padding\n",
    "            })\n",
    "            \n",
    "            # Conv2 in ResidualUnit\n",
    "            layers.append({\n",
    "                \"name\": f\"DecBlock{i}-Unit{unit}-Conv2\",\n",
    "                \"type\": \"conv\", \n",
    "                \"k\": 1, \n",
    "                \"s\": 1, \n",
    "                \"d\": 1, \n",
    "                \"p\": 0\n",
    "            })\n",
    "    \n",
    "    \n",
    "    layers.append(\n",
    "        {\"name\": \"DecFinalConv\", \"type\": \"conv\", \"k\": 7, \"s\": 1, \"d\": 1, \"p\": 3}\n",
    "        )\n",
    "    \n",
    "    return layers"
   ]
  },
  {
   "cell_type": "code",
   "execution_count": 41,
   "id": "75e27b20",
   "metadata": {},
   "outputs": [],
   "source": [
    "def calculate_receptive_field(layers, t_out=0):\n",
    "    n = len(layers)\n",
    "    \n",
    "    jumps = []\n",
    "    J = 1.0\n",
    "    for layer in layers:\n",
    "        jumps.append(J)\n",
    "        if layer[\"type\"] == \"conv\":\n",
    "            J *= layer[\"s\"]\n",
    "        else:  # tconv\n",
    "            J /= layer[\"s\"]\n",
    "    \n",
    "    # Work backwards\n",
    "    L = R = t_out\n",
    "    for i in reversed(range(n)):\n",
    "        layer = layers[i]\n",
    "        k, s, d, p = layer[\"k\"], layer[\"s\"], layer[\"d\"], layer[\"p\"]\n",
    "        J = jumps[i]\n",
    "        \n",
    "        if layer[\"type\"] == \"conv\":\n",
    "            L_new = L - p * J\n",
    "            R_new = R + ((k - 1) * d - p) * J\n",
    "        else:  # tconv\n",
    "            L_new = ceil(L/J + (p - (k - 1) * d) / s) * J\n",
    "            R_new = floor(R/J + p / s) * J\n",
    "        \n",
    "        rf_len = R_new - L_new + 1\n",
    "        layer[\"jump\"] = J\n",
    "        layer[\"L\"] = L_new\n",
    "        layer[\"R\"] = R_new\n",
    "        layer[\"rf_len\"] = rf_len\n",
    "        \n",
    "        L, R = L_new, R_new\n",
    "    \n",
    "    return layers"
   ]
  },
  {
   "cell_type": "code",
   "execution_count": 42,
   "id": "3cf3ba29",
   "metadata": {},
   "outputs": [],
   "source": [
    "def print_results(layers):\n",
    "    \"\"\"Print receptive field results\"\"\"\n",
    "    print(f\"{'Layer':<15} {'Type':<6} {'k':<3} {'s':<3} {'p':<3} {'Jump':<10} {'L':<8} {'R':<8} {'RF_len':<8}\")\n",
    "    print(\"-\" * 70)\n",
    "    for layer in layers:\n",
    "        print(f\"{layer['name']:<15} {layer['type']:<6} {layer['k']:<3} {layer['s']:<3} {layer['p']:<3} \"\n",
    "              f\"{layer['jump']:<10.4f} {layer['L']:<8.2f} {layer['R']:<8.2f} {layer['rf_len']:<8.2f}\")"
   ]
  },
  {
   "cell_type": "code",
   "execution_count": null,
   "id": "60c31770",
   "metadata": {},
   "outputs": [],
   "source": [
    "strides = [8, 2, 4, 5, 6]\n",
    "# strides = [4, 8, 2, 5, 6]\n",
    "layers = build_decoder_layers(strides)\n",
    "print(f\"Testing strides: {strides}\")\n",
    "result_layers = calculate_receptive_field(layers.copy())\n",
    "print_results(result_layers)\n",
    "print(f\"\\nFinal receptive field size: {result_layers[0]['L']} and {result_layers[0]['R']}\")"
   ]
  },
  {
   "cell_type": "markdown",
   "id": "230a3cf3",
   "metadata": {},
   "source": [
    "### Check DAC Sampling Ratio"
   ]
  },
  {
   "cell_type": "code",
   "execution_count": null,
   "id": "0a4f8c84",
   "metadata": {},
   "outputs": [],
   "source": [
    "import inspect\n",
    "print(inspect.getsource(torch.nn.Conv1d))"
   ]
  }
 ],
 "metadata": {
  "kernelspec": {
   "display_name": ".venv",
   "language": "python",
   "name": "python3"
  },
  "language_info": {
   "codemirror_mode": {
    "name": "ipython",
    "version": 3
   },
   "file_extension": ".py",
   "mimetype": "text/x-python",
   "name": "python",
   "nbconvert_exporter": "python",
   "pygments_lexer": "ipython3",
   "version": "3.10.15"
  }
 },
 "nbformat": 4,
 "nbformat_minor": 5
}
