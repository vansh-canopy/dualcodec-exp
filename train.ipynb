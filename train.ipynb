{
 "cells": [
  {
   "cell_type": "code",
   "execution_count": 1,
   "metadata": {},
   "outputs": [],
   "source": [
    "%load_ext autoreload\n",
    "%autoreload 2"
   ]
  },
  {
   "cell_type": "code",
   "execution_count": 2,
   "metadata": {},
   "outputs": [],
   "source": [
    "from datasets import load_dataset\n",
    "from huggingface_hub import snapshot_download\n",
    "from datasets import concatenate_datasets\n",
    "import os\n",
    "from tqdm import tqdm"
   ]
  },
  {
   "cell_type": "code",
   "execution_count": 3,
   "metadata": {},
   "outputs": [],
   "source": [
    "tar_paths = [f\"EN-B00000{i}.tar\" for i in range(0, 10)]\n",
    "local_dir = \"/workspace/emilia_dataset\"\n",
    "max_shards = 10\n",
    "language = \"EN\"\n",
    "ds_list = []"
   ]
  },
  {
   "cell_type": "code",
   "execution_count": 4,
   "metadata": {},
   "outputs": [
    {
     "data": {
      "application/vnd.jupyter.widget-view+json": {
       "model_id": "c5d7f71a13e5426c8dd3d4853316172b",
       "version_major": 2,
       "version_minor": 0
      },
      "text/plain": [
       "Fetching 10 files:   0%|          | 0/10 [00:00<?, ?it/s]"
      ]
     },
     "metadata": {},
     "output_type": "display_data"
    },
    {
     "data": {
      "text/plain": [
       "'/workspace/emilia_dataset'"
      ]
     },
     "execution_count": 4,
     "metadata": {},
     "output_type": "execute_result"
    }
   ],
   "source": [
    "snapshot_download(\n",
    "    repo_id=\"amphion/Emilia-Dataset\",\n",
    "    repo_type=\"dataset\",\n",
    "    local_dir=\"/workspace/emilia_dataset\",\n",
    "    allow_patterns=\"Emilia/EN/EN-B00000*.tar\",\n",
    "    max_workers=8,\n",
    ")"
   ]
  },
  {
   "cell_type": "code",
   "execution_count": 5,
   "metadata": {},
   "outputs": [],
   "source": [
    "local_dir = \"/workspace/emilia_dataset/Emilia/EN\""
   ]
  },
  {
   "cell_type": "code",
   "execution_count": 6,
   "metadata": {},
   "outputs": [
    {
     "data": {
      "text/plain": [
       "['EN-B000000.tar',\n",
       " 'EN-B000001.tar',\n",
       " 'EN-B000002.tar',\n",
       " 'EN-B000003.tar',\n",
       " 'EN-B000004.tar',\n",
       " 'EN-B000005.tar',\n",
       " 'EN-B000006.tar',\n",
       " 'EN-B000007.tar',\n",
       " 'EN-B000008.tar',\n",
       " 'EN-B000009.tar']"
      ]
     },
     "execution_count": 6,
     "metadata": {},
     "output_type": "execute_result"
    }
   ],
   "source": [
    "tar_paths"
   ]
  },
  {
   "cell_type": "code",
   "execution_count": 10,
   "metadata": {},
   "outputs": [
    {
     "name": "stderr",
     "output_type": "stream",
     "text": [
      "Loading shards:   0%|          | 0/10 [00:00<?, ?it/s]"
     ]
    },
    {
     "name": "stdout",
     "output_type": "stream",
     "text": [
      "Loading shard 1/10: ../../../xabi-dualcodec/EN-B000000.tar\n"
     ]
    },
    {
     "data": {
      "application/vnd.jupyter.widget-view+json": {
       "model_id": "e7d3e06a0013446f91492d90a7b8ba15",
       "version_major": 2,
       "version_minor": 0
      },
      "text/plain": [
       "Generating en split: 0 examples [00:00, ? examples/s]"
      ]
     },
     "metadata": {},
     "output_type": "display_data"
    },
    {
     "name": "stderr",
     "output_type": "stream",
     "text": [
      "Loading shards:  10%|█         | 1/10 [00:07<01:05,  7.23s/it]"
     ]
    },
    {
     "name": "stdout",
     "output_type": "stream",
     "text": [
      "Loading shard 2/10: ../../../xabi-dualcodec/EN-B000001.tar\n"
     ]
    },
    {
     "data": {
      "application/vnd.jupyter.widget-view+json": {
       "model_id": "115aa0e438074371bb498713335f754d",
       "version_major": 2,
       "version_minor": 0
      },
      "text/plain": [
       "Generating en split: 0 examples [00:00, ? examples/s]"
      ]
     },
     "metadata": {},
     "output_type": "display_data"
    },
    {
     "name": "stderr",
     "output_type": "stream",
     "text": [
      "Loading shards:  20%|██        | 2/10 [00:14<00:57,  7.24s/it]"
     ]
    },
    {
     "name": "stdout",
     "output_type": "stream",
     "text": [
      "Loading shard 3/10: ../../../xabi-dualcodec/EN-B000002.tar\n"
     ]
    },
    {
     "data": {
      "application/vnd.jupyter.widget-view+json": {
       "model_id": "4e83836c3c024f6f8649eddce5104dde",
       "version_major": 2,
       "version_minor": 0
      },
      "text/plain": [
       "Generating en split: 0 examples [00:00, ? examples/s]"
      ]
     },
     "metadata": {},
     "output_type": "display_data"
    },
    {
     "name": "stderr",
     "output_type": "stream",
     "text": [
      "Loading shards:  30%|███       | 3/10 [00:23<00:57,  8.18s/it]"
     ]
    },
    {
     "name": "stdout",
     "output_type": "stream",
     "text": [
      "Loading shard 4/10: ../../../xabi-dualcodec/EN-B000003.tar\n"
     ]
    },
    {
     "data": {
      "application/vnd.jupyter.widget-view+json": {
       "model_id": "8f95212a0f2e4a28b931ec61b208d266",
       "version_major": 2,
       "version_minor": 0
      },
      "text/plain": [
       "Generating en split: 0 examples [00:00, ? examples/s]"
      ]
     },
     "metadata": {},
     "output_type": "display_data"
    },
    {
     "name": "stderr",
     "output_type": "stream",
     "text": [
      "Loading shards:  40%|████      | 4/10 [00:30<00:45,  7.52s/it]"
     ]
    },
    {
     "name": "stdout",
     "output_type": "stream",
     "text": [
      "Loading shard 5/10: ../../../xabi-dualcodec/EN-B000004.tar\n"
     ]
    },
    {
     "data": {
      "application/vnd.jupyter.widget-view+json": {
       "model_id": "bdbd7dd9a5f2454491cd26b0caf5cf19",
       "version_major": 2,
       "version_minor": 0
      },
      "text/plain": [
       "Generating en split: 0 examples [00:00, ? examples/s]"
      ]
     },
     "metadata": {},
     "output_type": "display_data"
    },
    {
     "name": "stderr",
     "output_type": "stream",
     "text": [
      "Loading shards:  50%|█████     | 5/10 [00:36<00:34,  6.95s/it]"
     ]
    },
    {
     "name": "stdout",
     "output_type": "stream",
     "text": [
      "Loading shard 6/10: ../../../xabi-dualcodec/EN-B000005.tar\n"
     ]
    },
    {
     "data": {
      "application/vnd.jupyter.widget-view+json": {
       "model_id": "a281958796ef45de92d004cccbb6ca0b",
       "version_major": 2,
       "version_minor": 0
      },
      "text/plain": [
       "Generating en split: 0 examples [00:00, ? examples/s]"
      ]
     },
     "metadata": {},
     "output_type": "display_data"
    },
    {
     "name": "stderr",
     "output_type": "stream",
     "text": [
      "Loading shards:  60%|██████    | 6/10 [00:43<00:28,  7.01s/it]"
     ]
    },
    {
     "name": "stdout",
     "output_type": "stream",
     "text": [
      "Loading shard 7/10: ../../../xabi-dualcodec/EN-B000006.tar\n"
     ]
    },
    {
     "data": {
      "application/vnd.jupyter.widget-view+json": {
       "model_id": "2cb4ce8c6ced4b8dabd53f6b6b468dc6",
       "version_major": 2,
       "version_minor": 0
      },
      "text/plain": [
       "Generating en split: 0 examples [00:00, ? examples/s]"
      ]
     },
     "metadata": {},
     "output_type": "display_data"
    },
    {
     "name": "stderr",
     "output_type": "stream",
     "text": [
      "Loading shards:  70%|███████   | 7/10 [00:50<00:21,  7.14s/it]"
     ]
    },
    {
     "name": "stdout",
     "output_type": "stream",
     "text": [
      "Loading shard 8/10: ../../../xabi-dualcodec/EN-B000007.tar\n"
     ]
    },
    {
     "data": {
      "application/vnd.jupyter.widget-view+json": {
       "model_id": "cf8c0390981e446291de59725c1ed779",
       "version_major": 2,
       "version_minor": 0
      },
      "text/plain": [
       "Generating en split: 0 examples [00:00, ? examples/s]"
      ]
     },
     "metadata": {},
     "output_type": "display_data"
    },
    {
     "name": "stderr",
     "output_type": "stream",
     "text": [
      "Loading shards:  80%|████████  | 8/10 [00:57<00:14,  7.05s/it]"
     ]
    },
    {
     "name": "stdout",
     "output_type": "stream",
     "text": [
      "Loading shard 9/10: ../../../xabi-dualcodec/EN-B000008.tar\n"
     ]
    },
    {
     "data": {
      "application/vnd.jupyter.widget-view+json": {
       "model_id": "91a4ae2faa3c442ca99f75b68860037b",
       "version_major": 2,
       "version_minor": 0
      },
      "text/plain": [
       "Generating en split: 0 examples [00:00, ? examples/s]"
      ]
     },
     "metadata": {},
     "output_type": "display_data"
    },
    {
     "name": "stderr",
     "output_type": "stream",
     "text": [
      "Loading shards:  90%|█████████ | 9/10 [01:04<00:07,  7.03s/it]"
     ]
    },
    {
     "name": "stdout",
     "output_type": "stream",
     "text": [
      "Loading shard 10/10: ../../../xabi-dualcodec/EN-B000009.tar\n"
     ]
    },
    {
     "data": {
      "application/vnd.jupyter.widget-view+json": {
       "model_id": "670d09f3d167463dbc6c04daa8e80fce",
       "version_major": 2,
       "version_minor": 0
      },
      "text/plain": [
       "Generating en split: 0 examples [00:00, ? examples/s]"
      ]
     },
     "metadata": {},
     "output_type": "display_data"
    },
    {
     "name": "stderr",
     "output_type": "stream",
     "text": [
      "Loading shards: 100%|██████████| 10/10 [01:11<00:00,  7.12s/it]\n"
     ]
    }
   ],
   "source": [
    "for i, tar_path in enumerate(tqdm(tar_paths[:max_shards], desc=\"Loading shards\"), start=1):\n",
    "    rel_path = os.path.relpath(tar_path, start=local_dir)\n",
    "    print(f\"Loading shard {i}/{max_shards}: {rel_path}\")\n",
    "    ds = load_dataset(\n",
    "        local_dir,\n",
    "        data_files={language.lower(): tar_path},\n",
    "        split=language.lower()\n",
    "    )\n",
    "    ds_list.append(ds)\n",
    "\n",
    "big_ds = concatenate_datasets(ds_list)"
   ]
  },
  {
   "cell_type": "code",
   "execution_count": null,
   "metadata": {},
   "outputs": [],
   "source": [
    "\n",
    "big_ds = concatenate_datasets(ds_list)"
   ]
  },
  {
   "cell_type": "code",
   "execution_count": null,
   "metadata": {},
   "outputs": [],
   "source": [
    "\n",
    "# Load dataset from the downloaded repository\n",
    "dataset = load_dataset(\n",
    "    repo_path,\n",
    "    data_files={\"train\": \"DE/*.tar\"},  # Only German data (~10% of full dataset)\n",
    "    split=\"train\",\n",
    "    streaming=False\n",
    ")\n",
    "\n",
    "# Alternative: If you want to control exact percentage, you can slice after loading\n",
    "# dataset = dataset.select(range(int(len(dataset) * 0.1)))  # Take only 10%\n",
    "\n",
    "print(f\"Dataset size: {len(dataset)} samples\")\n",
    "print(f\"Dataset cached in: {cache_dir}\")\n",
    "print(f\"Repository downloaded to: {repo_path}\")"
   ]
  },
  {
   "cell_type": "code",
   "execution_count": null,
   "metadata": {},
   "outputs": [],
   "source": []
  }
 ],
 "metadata": {
  "kernelspec": {
   "display_name": "Python 3",
   "language": "python",
   "name": "python3"
  },
  "language_info": {
   "codemirror_mode": {
    "name": "ipython",
    "version": 3
   },
   "file_extension": ".py",
   "mimetype": "text/x-python",
   "name": "python",
   "nbconvert_exporter": "python",
   "pygments_lexer": "ipython3",
   "version": "3.10.12"
  }
 },
 "nbformat": 4,
 "nbformat_minor": 2
}
