{
 "cells": [
  {
   "cell_type": "code",
   "execution_count": null,
   "metadata": {},
   "outputs": [],
   "source": [
    "import dualcodec\n",
    "import torchaudio\n",
    "from IPython.display import Audio"
   ]
  },
  {
   "cell_type": "code",
   "execution_count": null,
   "metadata": {},
   "outputs": [],
   "source": [
    "model_id = \"12hz_v1\"\n",
    "dualcodec_model_path = \"./output_checkpoints/dualcodec_12hz_16384_4096_8vq_scratch/checkpoint/epoch-0000_step-0013800_loss-89.047997-dualcodec_12hz_16384_4096_8vq_scratch\"\n",
    "dualcodec_model = dualcodec.get_model(model_id, dualcodec_model_path)"
   ]
  },
  {
   "cell_type": "code",
   "execution_count": null,
   "metadata": {},
   "outputs": [],
   "source": [
    "dualcodec_inference = dualcodec.Inference(dualcodec_model=dualcodec_model, device=\"cpu\")"
   ]
  },
  {
   "cell_type": "code",
   "execution_count": null,
   "metadata": {},
   "outputs": [],
   "source": [
    "audio, sr = torchaudio.load(\"audio_samples/tara.wav\")\n",
    "audio = torchaudio.functional.resample(audio, sr, 24000)\n",
    "audio = audio.reshape(1,1,-1)\n",
    "audio = audio.cpu()\n",
    "# extract codes, for example, using 8 quantizers here:\n",
    "semantic_codes, acoustic_codes = dualcodec_inference.encode(audio, n_quantizers=8)"
   ]
  },
  {
   "cell_type": "code",
   "execution_count": null,
   "metadata": {},
   "outputs": [],
   "source": [
    "out_audio = dualcodec_inference.decode(semantic_codes, acoustic_codes)\n",
    "Audio(out_audio.cpu().squeeze(0), rate=24000)"
   ]
  }
 ],
 "metadata": {
  "kernelspec": {
   "display_name": "base",
   "language": "python",
   "name": "python3"
  },
  "language_info": {
   "codemirror_mode": {
    "name": "ipython",
    "version": 3
   },
   "file_extension": ".py",
   "mimetype": "text/x-python",
   "name": "python",
   "nbconvert_exporter": "python",
   "pygments_lexer": "ipython3",
   "version": "3.10.15"
  }
 },
 "nbformat": 4,
 "nbformat_minor": 2
}
